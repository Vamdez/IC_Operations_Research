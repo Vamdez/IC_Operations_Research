{
 "cells": [
  {
   "cell_type": "code",
   "execution_count": null,
   "id": "2c4b8fa7",
   "metadata": {},
   "outputs": [
    {
     "name": "stdout",
     "output_type": "stream",
     "text": [
      "Collecting gurobipy\n",
      "  Downloading gurobipy-12.0.2-cp312-cp312-manylinux2014_x86_64.manylinux_2_17_x86_64.whl.metadata (16 kB)\n",
      "Downloading gurobipy-12.0.2-cp312-cp312-manylinux2014_x86_64.manylinux_2_17_x86_64.whl (14.3 MB)\n",
      "\u001b[2K   \u001b[38;2;114;156;31m━━━━━━━━━━━━━━━━━━━━━━━━━━━━━━━━━━━━━━━━\u001b[0m \u001b[32m14.3/14.3 MB\u001b[0m \u001b[31m6.1 MB/s\u001b[0m eta \u001b[36m0:00:00\u001b[0mm eta \u001b[36m0:00:01\u001b[0m0:01\u001b[0m:01\u001b[0m\n",
      "\u001b[?25hInstalling collected packages: gurobipy\n",
      "Successfully installed gurobipy-12.0.2\n"
     ]
    }
   ],
   "source": [
    "!pip install gurobipy"
   ]
  },
  {
   "cell_type": "code",
   "execution_count": 4,
   "id": "ee4a0102",
   "metadata": {},
   "outputs": [],
   "source": [
    "import gurobipy as gp\n",
    "from gurobipy import GRB, quicksum"
   ]
  },
  {
   "cell_type": "code",
   "execution_count": 30,
   "id": "37615ffa",
   "metadata": {},
   "outputs": [],
   "source": [
    "n_real = 2\n",
    "n_virtual = 2\n",
    "n_total = n_real + n_virtual  # 9\n",
    "k = 2\n",
    "\n",
    "# Priorities of each equipment (p_j) - real + virtual\n",
    "# p_j = [10, 2, 4, 5, 6, 15, 20, 0, 0]  # len=9, últimos 2 virtuais com prioridade 0\n",
    "p_j = [0, 2, 4, 0]\n",
    "# Time to inspect equipment (t_j) - real + virtual\n",
    "# t_j = [30, 45, 20, 35, 50, 25, 60, 0, 0]  # len=9, últimos 2 virtuais 0\n",
    "t_j = [0, 45, 20, 0]\n",
    "# S_ij matrix 9x9 (real+virtual)\n",
    "# S_ij = [\n",
    "#     [0,   0,  0,  0,  0,  0,  0, 0, 0],  # virtual node 1\n",
    "#     [0,12,  0, 13, 15, 17, 14, 20, 0],\n",
    "#     [0,10, 13,  0, 12,  8, 19, 18, 0],\n",
    "#     [0,18, 15, 12,  0, 16, 21, 11, 0],\n",
    "#     [0,20, 17,  8, 16,  0, 13, 19, 0],\n",
    "#     [0,9,  14, 19, 21, 13,  0, 10, 0],\n",
    "#     [0,22, 20, 18, 11, 19, 10,  0, 0],\n",
    "#     [0,  12, 10, 18, 20,  9, 22, 0, 0],\n",
    "#     [0,0,   0,  0,  0,  0,  0,  0, 0],  # virtual node 2\n",
    "# ]\n",
    "\n",
    "S_ij = [\n",
    "    [0, 0, 0, 0],  # virtual node 1\n",
    "    [0,0, 10, 0],\n",
    "    [0,10, 0, 0],\n",
    "    [0,0, 0, 0],  # virtual node 2\n",
    "]\n",
    "\n",
    "# Initial shift for each team to each real equipment (size 7)\n",
    "# d_mj = [\n",
    "#     [10, 15, 12, 20, 25, 18, 16],  # team 0\n",
    "#     [11, 13, 14, 18, 20, 19, 21],  # team 1\n",
    "# ]\n",
    "\n",
    "d_mj = [\n",
    "    [0, 10, 15, 0],  # team 0\n",
    "    [0, 11, 13, 0],  # team 1\n",
    "]\n",
    "\n",
    "\n",
    "# q_jl - calculate for real equipments only\n",
    "q_jl = [[round(p / (l + 1), 2) for l in range(n_real+1)] for p in p_j]"
   ]
  },
  {
   "cell_type": "code",
   "execution_count": 70,
   "id": "425fb87a",
   "metadata": {},
   "outputs": [
    {
     "name": "stdout",
     "output_type": "stream",
     "text": [
      "2\n",
      "[[0.0, 0.0, 0.0], [2.0, 1.0, 0.67], [4.0, 2.0, 1.33], [0.0, 0.0, 0.0]]\n"
     ]
    }
   ],
   "source": [
    "for i in range(2, n_real+1):\n",
    "    print(i)\n",
    "print(q_jl)"
   ]
  },
  {
   "cell_type": "code",
   "execution_count": null,
   "id": "fbce5cb3",
   "metadata": {},
   "outputs": [],
   "source": [
    "m = gp.Model()\n",
    "\n",
    "# Create variables\n",
    "C_j = m.addVars(n_total, name='C_j', vtype=gp.GRB.CONTINUOUS, lb=0)\n",
    "Y_ilm = m.addVars(n_total, n_total, k, name='Y_ilm', vtype=gp.GRB.BINARY)\n",
    "X_ijm = m.addVars(n_total, n_total, k, name='X_ijm', vtype=gp.GRB.BINARY)\n",
    "C_max = m.addVar(name='C_max', vtype=gp.GRB.CONTINUOUS, lb=0)\n",
    "\n",
    "#Create objective function\n",
    "\n",
    "# Z_p\n",
    "Z_p = quicksum(q_jl[i][l] * Y_ilm[i, l, m]\n",
    "               for i in range(n_real+1)\n",
    "               for l in range(n_real+1)\n",
    "               for m in range(k))\n",
    "\n",
    "# TFT\n",
    "TFT = quicksum(\n",
    "    (S_ij[i][j] + t_j[j]) * X_ijm[i, j, m] + (d_mj[m][i]+t_j[i]) * Y_ilm[i, 0, m]\n",
    "    for i in range(n_real + 1)\n",
    "    for j in range(1, n_real + 2)\n",
    "    if i != j\n",
    "    for m in range(k)\n",
    ")\n",
    "\n",
    "# Z_t\n",
    "Z_t = C_max + TFT\n",
    "\n",
    "# Final objective function\n",
    "# m.setObjective(10 * Z_p - Z_t, GRB.MAXIMIZE)\n",
    "m.setObjective(Z_t, GRB.MINIMIZE)\n",
    "\n",
    "# -----------------------------\n",
    "# Create constraints\n",
    "# -----------------------------\n",
    "\n",
    "# S1 -Makespan Linear\n",
    "for j in range(1, n_real + 1):\n",
    "    m.addConstr(C_max >= C_j[j], name=\"S1 j=%d\" % j)\n",
    "\n",
    "# S2 - All equipment inspections are just a predecessor\n",
    "# for j in range(1, n_real + 1):\n",
    "#     for m_id in range(k):\n",
    "#         m.addConstr(\n",
    "#             gp.quicksum(X_ijm[i, j, m_id] for i in range(n_total) if i != j) == 1,\n",
    "#             name=\"S2 j=%d m=%d\" % (j, m_id)\n",
    "#         )\n",
    "for j in range(1, n_real + 1):\n",
    "    m.addConstr(\n",
    "        gp.quicksum(X_ijm[i, j, m_id] for i in range(n_real + 1) for m_id in range(k) if i != j ) == 1,\n",
    "        name=\"S2 j=%d\" % j\n",
    "    )\n",
    "\n",
    "# S3 – Each team must finish its inspection at node n+1 (node 11)\n",
    "for m_id in range(k):\n",
    "    m.addConstr(\n",
    "        gp.quicksum(X_ijm[i, n_real + 1, m_id] for i in range(1, n_real + 1)) == 1,\n",
    "        name=\"S3 m=%d\" % m_id\n",
    "    )\n",
    "\n",
    "# S4 – Each team starts inspection from virtual node 0\n",
    "for m_id in range(k):\n",
    "    m.addConstr(\n",
    "        gp.quicksum(X_ijm[0, j, m_id] for j in range(1, n_real + 1)) == 1,\n",
    "        name=\"S4 m=%d\" % m_id\n",
    "    )\n",
    "\n",
    "# S4.2 – Each team starts at node 0 in position 0\n",
    "for m_id in range(k):\n",
    "    m.addConstr(Y_ilm[0, 0, m_id] == 1, name=\"S4.2 m=%d\" % m_id)\n",
    "\n",
    "# S5 – All equipment inspections have only one successor\n",
    "# for i in range(1, n_real + 1):\n",
    "#     for m_id in range(k):\n",
    "#         m.addConstr(\n",
    "#             gp.quicksum(X_ijm[i, j, m_id] for j in range(n_total) if j != i) == 1,\n",
    "#             name=\"S5 i=%d m=%d\" % (i, m_id)\n",
    "#         )\n",
    "for i in range(1, n_real + 1):\n",
    "    m.addConstr(\n",
    "        gp.quicksum(X_ijm[i, j, m_id] for j in range(n_real + 2) if j != i for m_id in range(k)) == 1,\n",
    "        name=\"S5 i=%d\" % i\n",
    "    )\n",
    "\n",
    "# S7 – Temporal constraint: Cj ≥ Ci + Sij + tj if Xijm = 1 (big-M formulation)\n",
    "M = 1e4  # Big M constant\n",
    "for i in range(n_real + 1):\n",
    "    for j in range(n_real+2):\n",
    "        if i == j:\n",
    "            continue\n",
    "        for m_id in range(k):\n",
    "            m.addConstr(\n",
    "                C_j[j] >= C_j[i] - M + (t_j[j] + S_ij[i][j] + M) * X_ijm[i, j, m_id],\n",
    "                name=\"S7 i=%d j=%d m=%d\" % (i, j, m_id)\n",
    "            )\n",
    "\n",
    "# S8 – Each equipment is inspected exactly once by one team and at one position\n",
    "for i in range(1, n_real + 1):\n",
    "    m.addConstr(\n",
    "        gp.quicksum(Y_ilm[i, l, m_id] for l in range(1, n_real+1) for m_id in range(k)) == 1,\n",
    "        name=\"S8 i=%d\" % i\n",
    "    )\n",
    "\n",
    "# S9 – Inspection positions must be consecutive (no gaps in assignment)\n",
    "for m_id in range(k):\n",
    "    for l in range(2, n_real+1):\n",
    "        m.addConstr(\n",
    "            gp.quicksum(Y_ilm[i, l - 1, m_id] for i in range(n_real + 1)) >=\n",
    "            gp.quicksum(Y_ilm[i, l, m_id] for i in range(n_real + 1)),\n",
    "            name=\"S9 l=%d m=%d\" % (l, m_id)\n",
    "        )"
   ]
  },
  {
   "cell_type": "code",
   "execution_count": 87,
   "id": "53dfb36c",
   "metadata": {},
   "outputs": [
    {
     "name": "stdout",
     "output_type": "stream",
     "text": [
      "Gurobi Optimizer version 12.0.2 build v12.0.2rc0 (linux64 - \"Ubuntu 24.04.1 LTS\")\n",
      "\n",
      "CPU model: AMD FX(tm)-6300 Six-Core Processor, instruction set [SSE2|AVX]\n",
      "Thread count: 6 physical cores, 6 logical processors, using up to 6 threads\n",
      "\n",
      "Optimize a model with 35 rows, 69 columns and 114 nonzeros\n",
      "Model fingerprint: 0x5e930f3f\n",
      "Variable types: 5 continuous, 64 integer (64 binary)\n",
      "Coefficient statistics:\n",
      "  Matrix range     [1e+00, 1e+04]\n",
      "  Objective range  [1e+00, 1e+02]\n",
      "  Bounds range     [1e+00, 1e+00]\n",
      "  RHS range        [1e+00, 1e+04]\n",
      "Presolve removed 12 rows and 45 columns\n",
      "Presolve time: 0.00s\n",
      "\n",
      "Explored 0 nodes (0 simplex iterations) in 0.02 seconds (0.00 work units)\n",
      "Thread count was 1 (of 6 available processors)\n",
      "\n",
      "Solution count 0\n",
      "\n",
      "Model is infeasible\n",
      "Best objective -, best bound -, gap -\n"
     ]
    }
   ],
   "source": [
    "m.optimize()"
   ]
  },
  {
   "cell_type": "code",
   "execution_count": 88,
   "id": "f50f74a9",
   "metadata": {},
   "outputs": [
    {
     "name": "stdout",
     "output_type": "stream",
     "text": [
      "Optimal solution not found.\n"
     ]
    }
   ],
   "source": [
    "if m.status == gp.GRB.OPTIMAL:\n",
    "    print(\"Optimal solution found!\")\n",
    "\n",
    "    # Print objective value\n",
    "    print(\"Objective value:\", m.objVal)\n",
    "\n",
    "    # Print decision variable values that are non-zero\n",
    "    for v in m.getVars():\n",
    "        if v.x != 0:\n",
    "            print(v.varName, \"=\", v.x)\n",
    "\n",
    "else:\n",
    "    print(\"Optimal solution not found.\")"
   ]
  }
 ],
 "metadata": {
  "kernelspec": {
   "display_name": "venv",
   "language": "python",
   "name": "python3"
  },
  "language_info": {
   "codemirror_mode": {
    "name": "ipython",
    "version": 3
   },
   "file_extension": ".py",
   "mimetype": "text/x-python",
   "name": "python",
   "nbconvert_exporter": "python",
   "pygments_lexer": "ipython3",
   "version": "3.12.3"
  }
 },
 "nbformat": 4,
 "nbformat_minor": 5
}
